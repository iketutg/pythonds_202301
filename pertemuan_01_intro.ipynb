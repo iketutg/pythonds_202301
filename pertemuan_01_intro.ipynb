{
 "cells": [
  {
   "attachments": {},
   "cell_type": "markdown",
   "metadata": {},
   "source": [
    "# Python Introduction 24 Jan 2023 \n",
    "\n"
   ]
  },
  {
   "attachments": {},
   "cell_type": "markdown",
   "metadata": {},
   "source": [
    "### Alur Pemrograman"
   ]
  },
  {
   "attachments": {},
   "cell_type": "markdown",
   "metadata": {},
   "source": [
    "<img src=\"https://i.ibb.co/0MkZvWh/logika.png\" width=\"600\" align=\"center\">"
   ]
  },
  {
   "attachments": {},
   "cell_type": "markdown",
   "metadata": {},
   "source": [
    "### Interpreter or compiler"
   ]
  },
  {
   "attachments": {},
   "cell_type": "markdown",
   "metadata": {},
   "source": [
    "<img src=\"https://i.ibb.co/9VXZG2F/Python-Execution-Model.png\" width=\"600\" align=\"center\">\n"
   ]
  },
  {
   "attachments": {},
   "cell_type": "markdown",
   "metadata": {},
   "source": [
    "<img src=\"https://i.ibb.co/PmKTKjX/python-compile.png\" width=\"600\" align=\"center\">\n"
   ]
  },
  {
   "attachments": {},
   "cell_type": "markdown",
   "metadata": {},
   "source": [
    "## Short Cut Jupyter  \n",
    "\n",
    "    While in command mode (press Esc to activate):\n",
    "\n",
    "Enter take you into edit mode\n",
    "* H show all shortcuts\n",
    "* Up select cell above\n",
    "* Down select cell below\n",
    "* Shift + Up extend selected cells above\n",
    "* Shift + Down extend selected cells below\n",
    "* A insert cell above\n",
    "* B insert cell below\n",
    "* X cut selected cells\n",
    "* C copy selected cells\n",
    "* V paste cells below\n",
    "* Shift + V paste cells above\n",
    "* D, D (press the key twice) delete selected cells\n",
    "* Z undo cell deletion\n",
    "* S Save and Checkpoint\n",
    "* Y change the cell type to Code\n",
    "* M change the cell type to Markdown\n",
    "* P open the command palette.\n",
    "* Shift + Space scroll notebook up\n",
    "* Space scroll notebook down\n",
    "* \n",
    "While in edit mode (pressEnter to activate)\n",
    "Esc take you into command mode\n",
    "Tab code completion or indent\n",
    "* Shift + Tab tooltip\n",
    "* Ctrl + ] indent\n",
    "* Ctrl + [ dedent\n",
    "* Ctrl + A select all\n",
    "* Ctrl + Z undo\n",
    "* Ctrl + Shift + Z or Ctrl + Y redo\n",
    "* Ctrl + Home go to cell start\n",
    "* Ctrl + End go to cell end\n",
    "* Ctrl + Left go one word left\n",
    "* Ctrl + Right go one word right\n",
    "* Ctrl + Shift + P open the command palette\n",
    "* Down move cursor down"
   ]
  },
  {
   "attachments": {},
   "cell_type": "markdown",
   "metadata": {},
   "source": [
    " ### Introduction, Data Types, and Variables"
   ]
  },
  {
   "attachments": {},
   "cell_type": "markdown",
   "metadata": {},
   "source": [
    "## Tipe Data Python \n",
    "- Integers \n",
    "- Floating \n",
    "- String \n",
    "- Boolean  "
   ]
  },
  {
   "attachments": {},
   "cell_type": "markdown",
   "metadata": {},
   "source": [
    "#### Integer"
   ]
  },
  {
   "cell_type": "code",
   "execution_count": 8,
   "metadata": {},
   "outputs": [
    {
     "name": "stdout",
     "output_type": "stream",
     "text": [
      "3\n",
      "12222233333344444444444444444423\n"
     ]
    }
   ],
   "source": [
    "print(1+2)\n",
    "print(12222233333344444444444444444422+1)"
   ]
  },
  {
   "cell_type": "code",
   "execution_count": 9,
   "metadata": {},
   "outputs": [
    {
     "name": "stdout",
     "output_type": "stream",
     "text": [
      "10\n",
      "<class 'int'>\n"
     ]
    }
   ],
   "source": [
    "number = 10 \n",
    "print(number)\n",
    "print(type(number))"
   ]
  },
  {
   "attachments": {},
   "cell_type": "markdown",
   "metadata": {},
   "source": [
    "#### floating point \n",
    "- tipe float menunjukan bilang floating point , ada digit decimal , karakter E atau e"
   ]
  },
  {
   "cell_type": "code",
   "execution_count": 10,
   "metadata": {},
   "outputs": [
    {
     "name": "stdout",
     "output_type": "stream",
     "text": [
      "7.5\n",
      "<class 'float'>\n"
     ]
    }
   ],
   "source": [
    "fnumber = 7.5 \n",
    "print(fnumber)\n",
    "print(type(fnumber))\n"
   ]
  },
  {
   "cell_type": "code",
   "execution_count": 11,
   "metadata": {},
   "outputs": [
    {
     "name": "stdout",
     "output_type": "stream",
     "text": [
      "4000000.0\n",
      "<class 'float'>\n"
     ]
    }
   ],
   "source": [
    "fnumber = .4e7 \n",
    "print(fnumber)\n",
    "print(type(fnumber))"
   ]
  },
  {
   "attachments": {},
   "cell_type": "markdown",
   "metadata": {},
   "source": [
    "#### String\n",
    "diapit dengan tanda kutip satu atau dua "
   ]
  },
  {
   "cell_type": "code",
   "execution_count": 12,
   "metadata": {},
   "outputs": [
    {
     "name": "stdout",
     "output_type": "stream",
     "text": [
      "IKetut 1 Gunawan\n",
      "<class 'str'>\n",
      "IKetut 1 Gunawan\n",
      "<class 'str'>\n"
     ]
    }
   ],
   "source": [
    "nama = \"IKetut 1 Gunawan\"\n",
    "print(nama)\n",
    "print(type(nama))\n",
    "\n",
    "nama = 'IKetut 1 Gunawan'\n",
    "print(nama)\n",
    "print(type(nama))"
   ]
  },
  {
   "attachments": {},
   "cell_type": "markdown",
   "metadata": {},
   "source": [
    "##### Boolean"
   ]
  },
  {
   "cell_type": "code",
   "execution_count": 13,
   "metadata": {},
   "outputs": [
    {
     "name": "stdout",
     "output_type": "stream",
     "text": [
      "True\n",
      "<class 'bool'>\n"
     ]
    }
   ],
   "source": [
    "ok = True\n",
    "print(ok)\n",
    "print(type(ok))"
   ]
  },
  {
   "cell_type": "code",
   "execution_count": 14,
   "metadata": {},
   "outputs": [
    {
     "name": "stdout",
     "output_type": "stream",
     "text": [
      "False\n",
      "<class 'bool'>\n"
     ]
    }
   ],
   "source": [
    "ok = False \n",
    "print(ok)\n",
    "print(type(ok))"
   ]
  },
  {
   "attachments": {},
   "cell_type": "markdown",
   "metadata": {},
   "source": [
    "#### Variable Assignment  \n"
   ]
  },
  {
   "cell_type": "code",
   "execution_count": null,
   "metadata": {},
   "outputs": [],
   "source": [
    "x = y = z = 100 \n",
    "print(x)\n",
    "print(x,y,z)"
   ]
  },
  {
   "attachments": {},
   "cell_type": "markdown",
   "metadata": {},
   "source": [
    "#### Aturan variable names \n",
    "- variable depan tidak bisa menggunakan angka \n",
    "- variable depan bisa menggunakan huruf (besar / kecil )\n",
    "- variable depan menggunakan tanda / karakter garis bawah (_) \n",
    "  "
   ]
  },
  {
   "cell_type": "code",
   "execution_count": 16,
   "metadata": {},
   "outputs": [],
   "source": [
    "_ = \"kosong\"\n",
    "print(_)"
   ]
  },
  {
   "cell_type": "code",
   "execution_count": null,
   "metadata": {},
   "outputs": [],
   "source": [
    "_1 = 1 \n",
    "print(_1)"
   ]
  },
  {
   "cell_type": "code",
   "execution_count": 17,
   "metadata": {},
   "outputs": [],
   "source": [
    "nama_depan = \"Iketut\" \n",
    "print(nama_depan)"
   ]
  },
  {
   "cell_type": "code",
   "execution_count": null,
   "metadata": {},
   "outputs": [],
   "source": [
    "nama_belakang = 'Gunawan'\n",
    "print(nama_belakang)\n",
    "print(type(nama_belakang))\n",
    "1_huruf = \"abcde\"\n",
    "print(1_huruf)"
   ]
  },
  {
   "attachments": {},
   "cell_type": "markdown",
   "metadata": {},
   "source": [
    "#### Standard penamaan suatu variable \n",
    "-  Snake Case  : first_name  \n",
    "-  Camel Case  : jumlahAnakLakiLaki \n",
    "-  Pascal case : FistName"
   ]
  },
  {
   "cell_type": "code",
   "execution_count": null,
   "metadata": {},
   "outputs": [],
   "source": [
    "first_name = \"Iketut\"\n",
    "last_name = \"Gunawan\"\n",
    "tgl_lahir = 1011989 \n",
    "amountSaldo = 50000 \n",
    "AmountSaldo = 10000\n",
    "amount_saldo = 1000 \n",
    "print(amountSaldo, AmountSaldo, amountSaldo)"
   ]
  },
  {
   "attachments": {},
   "cell_type": "markdown",
   "metadata": {},
   "source": [
    "#### Operator dan Expresion \n"
   ]
  },
  {
   "attachments": {},
   "cell_type": "markdown",
   "metadata": {},
   "source": [
    "##### Basic Arithmetic operation \n",
    "\n",
    "\n",
    "| Operator | Description |\tSyntax |\n",
    "-----------|:-----------:|--------:|\n",
    "| +\t       |Addition: adds two operands |\tx + y |\n",
    "|–\t | Subtraction: subtracts two operands |\tx – y |\n",
    "|*\t| Multiplication: multiplies two operands |\tx * y | \n",
    "|/\t| Division (float): divides the first operand by the second |\tx / y |\n",
    "|//\t| Division (floor): divides the first operand by the second |\tx // y | \n",
    "|%\t| Modulus: returns the remainder when first operand is divided by the second | x % y |\n",
    "|**\t| Power : Returns first raised to power second |\tx ** y |"
   ]
  },
  {
   "cell_type": "code",
   "execution_count": null,
   "metadata": {},
   "outputs": [],
   "source": [
    "x = 10 \n",
    "y = 20 \n",
    "\n",
    "print(x+y)\n",
    "print(y-x) \n",
    "print(y/x)\n",
    "print(y//x)\n",
    "print(y%x)\n",
    "print(y**2)\n",
    "x = 3 \n",
    "y = 2 \n",
    "print(3 / 2) \n",
    "print(3 // 2)"
   ]
  },
  {
   "cell_type": "code",
   "execution_count": null,
   "metadata": {},
   "outputs": [],
   "source": [
    "x = 5 \n",
    "y = 4 \n",
    "x = x + y \n",
    "print(x)"
   ]
  },
  {
   "attachments": {},
   "cell_type": "markdown",
   "metadata": {},
   "source": [
    "#### Operator Penugasan\n",
    "|Operator |\tSimbol |\n",
    "|:--------|:-------|\n",
    "| Pengisian |\t= |\n",
    "| Penjumlahan |\t+= |\n",
    "| Pengurangan |\t-= |\n",
    "| Perkalian |\t*= |\n",
    "| Pembagian |\t/= |\n",
    "| Sisa Bagi |\t%= |\n",
    "| Pemangkatan |\t**= |"
   ]
  },
  {
   "cell_type": "code",
   "execution_count": null,
   "metadata": {},
   "outputs": [],
   "source": [
    "x = 2 \n",
    "y = 4 \n",
    "x += y \n",
    "print(x)\n",
    "\n",
    "x -= y \n",
    "print(x)\n",
    "\n",
    "x *= y \n",
    "print(x)\n",
    "x = 2 \n",
    "y = 4 \n",
    "y /=x \n",
    "print(y)\n",
    "x = 2 \n",
    "y = 4 \n",
    "y //=x \n",
    "print(y)\n",
    "x = 2 \n",
    "y = 4 \n",
    "y %= x \n",
    "print(y)\n",
    "x = 2 \n",
    "y = 4 \n",
    "y **= x \n",
    "print(y)"
   ]
  },
  {
   "attachments": {},
   "cell_type": "markdown",
   "metadata": {},
   "source": [
    "#### Comparison Operators \n",
    "\n",
    "- membandingkan dua nilai \n",
    "- dengan operator relasi\n",
    "  \n",
    "|Operator |\tSimbol |\n",
    "|:--------|:-------|\n",
    "|Lebih Besar|\t> |\n",
    "| Lebih Kecil |\t< |\n",
    "| Sama Dengan\t| == | \n",
    "| Tidak Sama dengan |\t!= |\n",
    "| Lebih Besar Sama dengan |\t>= |\n",
    "| Lebih Kecil Sama dengan |\t<= |"
   ]
  },
  {
   "cell_type": "code",
   "execution_count": null,
   "metadata": {},
   "outputs": [],
   "source": [
    "a=10 \n",
    "b=20 "
   ]
  },
  {
   "cell_type": "code",
   "execution_count": null,
   "metadata": {},
   "outputs": [],
   "source": [
    "print( a == b)"
   ]
  },
  {
   "cell_type": "code",
   "execution_count": null,
   "metadata": {},
   "outputs": [],
   "source": [
    "print(a != b)"
   ]
  },
  {
   "cell_type": "code",
   "execution_count": null,
   "metadata": {},
   "outputs": [],
   "source": [
    "print(a < b)"
   ]
  },
  {
   "cell_type": "code",
   "execution_count": null,
   "metadata": {},
   "outputs": [],
   "source": [
    "print( a > b )"
   ]
  },
  {
   "cell_type": "code",
   "execution_count": null,
   "metadata": {},
   "outputs": [],
   "source": [
    "print(b > a)"
   ]
  },
  {
   "cell_type": "code",
   "execution_count": null,
   "metadata": {},
   "outputs": [],
   "source": [
    "print(a>=b)"
   ]
  },
  {
   "cell_type": "code",
   "execution_count": null,
   "metadata": {},
   "outputs": [],
   "source": [
    "a = 10 \n",
    "b = 10 \n",
    "print (a >= b) "
   ]
  },
  {
   "attachments": {},
   "cell_type": "markdown",
   "metadata": {},
   "source": [
    "#### Operator Logika \n",
    "- operasi logika  ( AND , OR , NOT )\n",
    "\n",
    "|Nama |\tSimbol di Python |\n",
    "|:----|:----------|\n",
    "| Logika AND |\tand |\n",
    "| Logika OR\t| or |\n",
    "| Negasi/kebalikan |\tnot |\n",
    "\n",
    "Contoh : \"and\" \n",
    "\n",
    "|x   and  y | result | \n",
    "|----------:|-----:|\n",
    "|True and True | True |\n",
    "|True and False | False |\n",
    "|False and False | False   | \n",
    "\n",
    "Contoh : \"or\" \n",
    "\n",
    "|x   or  y | result | \n",
    "|----------:|-----:|\n",
    "|True or True | True |\n",
    "|True or False | True |\n",
    "|False or True | True |\n",
    "|False or False | False   | \n"
   ]
  },
  {
   "cell_type": "code",
   "execution_count": null,
   "metadata": {},
   "outputs": [],
   "source": [
    "a = True \n",
    "b = False "
   ]
  },
  {
   "cell_type": "code",
   "execution_count": null,
   "metadata": {},
   "outputs": [],
   "source": [
    "x = a and b \n",
    "print(x)\n",
    "a = True \n",
    "b = True\n",
    "x = a and b \n",
    "print(x)"
   ]
  },
  {
   "attachments": {},
   "cell_type": "markdown",
   "metadata": {},
   "source": [
    "##### String manipulation\n"
   ]
  },
  {
   "cell_type": "code",
   "execution_count": null,
   "metadata": {},
   "outputs": [],
   "source": [
    "# operator \n",
    "s = \"foo\"\n",
    "t = \"bar\"\n",
    "u = 'baz'\n",
    "\n",
    "print( s + t )\n",
    "print (s + t + u)\n",
    "print(\"Iketut\"+\" Gunawan\")"
   ]
  },
  {
   "cell_type": "code",
   "execution_count": null,
   "metadata": {},
   "outputs": [],
   "source": [
    "# operator * \n",
    "halo = \"Hallo\"\n",
    "print(halo * 5) \n",
    "\n",
    "print(\"=\"*15)"
   ]
  },
  {
   "cell_type": "code",
   "execution_count": null,
   "metadata": {},
   "outputs": [],
   "source": [
    "# operatorn in \n",
    "halo = 'Halo' \n",
    "\n",
    "print( halo in 'Halo apa kabar ?')\n",
    "\n",
    "print( halo in 'halo apa kabar ?')"
   ]
  },
  {
   "cell_type": "code",
   "execution_count": null,
   "metadata": {},
   "outputs": [],
   "source": [
    "# Case conversion \n",
    "s =\"PytHon9\"\n",
    "\n",
    "# lower \n",
    "print(s.lower())\n",
    "\n",
    "# upder \n",
    "print(s.upper())\n",
    "\n",
    "# Swapcase \n",
    "print(s.swapcase())\n",
    "\n",
    "s = \"hadapi dengan senyuman\"\n",
    "\n",
    "print(s.capitalize())\n",
    "\n",
    "print(s.title())\n",
    "\n"
   ]
  },
  {
   "attachments": {},
   "cell_type": "markdown",
   "metadata": {},
   "source": [
    "#### Container "
   ]
  },
  {
   "attachments": {},
   "cell_type": "markdown",
   "metadata": {},
   "source": [
    "<img src=\"images/01_container.png\" width=\"600\" align=\"center\">"
   ]
  },
  {
   "attachments": {},
   "cell_type": "markdown",
   "metadata": {},
   "source": [
    "<img src=\"images/02_container.png\" width=\"600\" align=\"center\">"
   ]
  },
  {
   "attachments": {},
   "cell_type": "markdown",
   "metadata": {},
   "source": [
    "<img src=\"images/03_container.png\" width=\"600\" align=\"center\">"
   ]
  },
  {
   "attachments": {},
   "cell_type": "markdown",
   "metadata": {},
   "source": [
    "<img src=\"images/05_container.png\" width=\"600\" align=\"center\">"
   ]
  },
  {
   "attachments": {},
   "cell_type": "markdown",
   "metadata": {},
   "source": [
    "#### Python List \n",
    "List adalah struktur data yang digunakan untuk menyimpan sekumpulan item dalam urutan tertentu. \n",
    "- menggunakan tanda kurung siku\n",
    "\n",
    "Karakteristik penting dari List Python adalah sebagai berikut:\n",
    "\n",
    "* Dapat berisi item dengan tipe data yang berbeda.\n",
    "* Bersifat mutable, artinya item dalam list bisa diubah setelah list dibuat.\n",
    "* Elemen Lists dapat diakses dengan indeks.\n",
    "* List dapat masukan ke kedalaman yang bebas.\n",
    "* List bisa berubah.\n",
    "* List bersifat dinamis."
   ]
  },
  {
   "cell_type": "code",
   "execution_count": null,
   "metadata": {},
   "outputs": [],
   "source": [
    "names = ['budi','Joko','Jono',\"Bowo\"] \n",
    "print(names)\n",
    "print(type(names))\n"
   ]
  },
  {
   "cell_type": "code",
   "execution_count": null,
   "metadata": {},
   "outputs": [],
   "source": [
    "vara = ['budi','Joko',100,10.1]\n",
    "print(vara)\n",
    "print(type(vara))"
   ]
  },
  {
   "cell_type": "code",
   "execution_count": null,
   "metadata": {},
   "outputs": [],
   "source": [
    "a = ['a1','b1','c1','d1','e1','f1']\n",
    "b = ['a1','c1','b1','f1','e1','d1']\n",
    "c = ['a1','b1','c1','d1','e1','f1']\n",
    "\n",
    "print(a == b) \n",
    "print(a == c)"
   ]
  },
  {
   "cell_type": "code",
   "execution_count": null,
   "metadata": {},
   "outputs": [],
   "source": [
    "print(a[0]) "
   ]
  },
  {
   "cell_type": "code",
   "execution_count": null,
   "metadata": {},
   "outputs": [],
   "source": [
    "print(a[5])"
   ]
  },
  {
   "cell_type": "code",
   "execution_count": null,
   "metadata": {},
   "outputs": [],
   "source": [
    "print(a[-1])"
   ]
  },
  {
   "attachments": {},
   "cell_type": "markdown",
   "metadata": {},
   "source": [
    "![alt text](https://i.ibb.co/2dwyz0n/list.png \"List Element\")\n"
   ]
  },
  {
   "cell_type": "code",
   "execution_count": null,
   "metadata": {},
   "outputs": [],
   "source": [
    "strlist = ['foo','bar','baz','qux','quux','corge']\n",
    "print(strlist[5])\n",
    "print(strlist[-1])"
   ]
  },
  {
   "cell_type": "code",
   "execution_count": null,
   "metadata": {},
   "outputs": [],
   "source": [
    "print(strlist[-2])"
   ]
  },
  {
   "cell_type": "code",
   "execution_count": null,
   "metadata": {},
   "outputs": [],
   "source": [
    "panjanglist = len(strlist)\n",
    "print(panjanglist)"
   ]
  },
  {
   "cell_type": "code",
   "execution_count": null,
   "metadata": {},
   "outputs": [],
   "source": [
    "print(strlist[panjanglist-1])"
   ]
  },
  {
   "cell_type": "code",
   "execution_count": null,
   "metadata": {},
   "outputs": [],
   "source": [
    "print(strlist[len(strlist) - 1])"
   ]
  },
  {
   "cell_type": "code",
   "execution_count": null,
   "metadata": {},
   "outputs": [],
   "source": [
    "print(print(strlist[6]))"
   ]
  },
  {
   "attachments": {},
   "cell_type": "markdown",
   "metadata": {},
   "source": [
    "![alt text](https://i.ibb.co/HBpJ63P/list2.png \"List Element\")"
   ]
  },
  {
   "cell_type": "markdown",
   "metadata": {},
   "source": []
  },
  {
   "cell_type": "code",
   "execution_count": null,
   "metadata": {},
   "outputs": [],
   "source": [
    "strlist = ['foo','bar','baz','qux','quux','corge']\n",
    "\n",
    "strlist[1:4]"
   ]
  },
  {
   "cell_type": "code",
   "execution_count": null,
   "metadata": {},
   "outputs": [],
   "source": [
    "strlist[0:4]"
   ]
  },
  {
   "cell_type": "code",
   "execution_count": null,
   "metadata": {},
   "outputs": [],
   "source": [
    "strlist[:4]"
   ]
  },
  {
   "cell_type": "code",
   "execution_count": null,
   "metadata": {},
   "outputs": [],
   "source": [
    "strlist[1:]"
   ]
  },
  {
   "cell_type": "code",
   "execution_count": null,
   "metadata": {},
   "outputs": [],
   "source": [
    "strlist[1] = 10\n",
    "print(strlist)"
   ]
  },
  {
   "cell_type": "code",
   "execution_count": null,
   "metadata": {},
   "outputs": [],
   "source": [
    "del strlist[3]\n",
    "print(strlist)"
   ]
  },
  {
   "cell_type": "code",
   "execution_count": null,
   "metadata": {},
   "outputs": [],
   "source": [
    "print(strlist[1:3])"
   ]
  },
  {
   "cell_type": "code",
   "execution_count": null,
   "metadata": {},
   "outputs": [],
   "source": [
    "strlist[1:3] = [1.1,2,3,5.5,10]\n",
    "print(strlist)"
   ]
  },
  {
   "cell_type": "code",
   "execution_count": null,
   "metadata": {},
   "outputs": [],
   "source": [
    "buah = ['apel','jeruk','mangga','durian','rambutan']\n",
    "print('jeruk' in buah)\n",
    "print('Jeruk' in buah)"
   ]
  },
  {
   "cell_type": "code",
   "execution_count": null,
   "metadata": {},
   "outputs": [],
   "source": [
    "buah.index('mangga')"
   ]
  },
  {
   "cell_type": "code",
   "execution_count": null,
   "metadata": {},
   "outputs": [],
   "source": [
    "buah.index('anggur')"
   ]
  },
  {
   "cell_type": "code",
   "execution_count": null,
   "metadata": {},
   "outputs": [],
   "source": [
    "buah.append('anggur') \n",
    "print(buah)"
   ]
  },
  {
   "cell_type": "code",
   "execution_count": null,
   "metadata": {},
   "outputs": [],
   "source": [
    "buah.remove('mangga')\n",
    "print(buah)"
   ]
  },
  {
   "cell_type": "code",
   "execution_count": null,
   "metadata": {},
   "outputs": [],
   "source": [
    "buah_delete = buah.pop(2) # delete berdasarkan index dan mereturn value didelte\n",
    "print(f\"{buah_delete} telah di delte\")"
   ]
  },
  {
   "cell_type": "code",
   "execution_count": null,
   "metadata": {},
   "outputs": [],
   "source": [
    "buah.insert(2,\"manggis\")\n",
    "print(buah)"
   ]
  },
  {
   "cell_type": "code",
   "execution_count": null,
   "metadata": {},
   "outputs": [],
   "source": [
    "buah.sort()\n",
    "print(buah)\n",
    "print(type(buah))"
   ]
  },
  {
   "cell_type": "code",
   "execution_count": null,
   "metadata": {},
   "outputs": [],
   "source": [
    "buah_sorted = sorted(buah)\n",
    "print(buah_sorted)\n",
    "print(type(buah_sorted))"
   ]
  },
  {
   "attachments": {},
   "cell_type": "markdown",
   "metadata": {},
   "source": [
    "#### Python Tuples  \n",
    "\n",
    "Tuple adalah struktur data yang mirip dengan list tetapi bersifat immutable, artinya item di dalamnya tidak bisa diubah setelah tuple dibuat.\n",
    "* Digunakan untuk menyimpan sekumpulan item dalam urutan tertentu dan memastikan data tidak diubah.\n",
    "* Tuple di Python dideklarasikan menggunakan kurung biasa (). \n",
    "\n",
    "\n",
    "Kegunaan :  \n",
    "- return value dari fungsi  \n",
    "- key dalam Dictionary :  location[(68.00,-67.00)] = \"Tangerang\"\n",
    "- Overhead Memori (lebih sedikit memori dibandingkan list) \n",
    "- penggunaan Zip \n",
    "    ``` \n",
    "        names = [\"Iwan\", \"Budi\", \"Wati\"] \n",
    "        scores = [85, 90, 78]\n",
    "        for name, score in zip(names, scores):\n",
    "            print(f\"{name} scored {score}\") \n",
    "    ```\n",
    "- penggunaan enumerate \n",
    "    ``` \n",
    "        for index, name in enumerate(names):\n",
    "            print(f\"Index {index}: {name}\")\n",
    "    ```\n"
   ]
  },
  {
   "cell_type": "markdown",
   "metadata": {},
   "source": []
  },
  {
   "cell_type": "code",
   "execution_count": null,
   "metadata": {},
   "outputs": [],
   "source": [
    "buaht = ('anggur', 'apel', 'durian', 'jeruk', 'manggis', 'rambutan')\n",
    "print(buaht)\n",
    "print(type(buaht))"
   ]
  },
  {
   "cell_type": "code",
   "execution_count": null,
   "metadata": {},
   "outputs": [],
   "source": [
    "print(buaht[-1])"
   ]
  },
  {
   "cell_type": "code",
   "execution_count": null,
   "metadata": {},
   "outputs": [],
   "source": [
    "buaht[0] = 'semanggka'\n",
    "print(buaht)"
   ]
  },
  {
   "cell_type": "code",
   "execution_count": null,
   "metadata": {},
   "outputs": [],
   "source": [
    "(x1, x2,x3) = ('satu','dua','tiga')\n",
    "print(x1,x2,x3)"
   ]
  },
  {
   "cell_type": "code",
   "execution_count": null,
   "metadata": {},
   "outputs": [],
   "source": [
    "(x1, x2) = ('satu','dua','tiga')\n"
   ]
  },
  {
   "cell_type": "code",
   "execution_count": null,
   "metadata": {},
   "outputs": [],
   "source": [
    "countdown = 1,2,3, \"RUN!!!!\"\n",
    "print(countdown)\n",
    "print(type(countdown))"
   ]
  },
  {
   "cell_type": "code",
   "execution_count": null,
   "metadata": {},
   "outputs": [],
   "source": [
    "single = (1,)\n",
    "print(single)"
   ]
  },
  {
   "cell_type": "code",
   "execution_count": null,
   "metadata": {},
   "outputs": [],
   "source": [
    "# list of tupple \n",
    "point = [(4,3),(5,2),(7,7),(9,9)]\n",
    "\n",
    "for p in point:\n",
    "    print(f\" x : {p[0]}, {p[1]} \")"
   ]
  },
  {
   "attachments": {},
   "cell_type": "markdown",
   "metadata": {},
   "source": [
    "### Python Dictorynary \n",
    "-  {} \n",
    "-  isi  bisa berupa list \n",
    "-  isi bisa berupa object  \n",
    "-  bisa berubah dan dinamis \n",
    "-  Key dan Value ( dapat diakses menggunakan key)\n",
    "-  Key string \n",
    "-  key dan value di pisahkan menggunakan titik dua ':'"
   ]
  },
  {
   "attachments": {},
   "cell_type": "markdown",
   "metadata": {},
   "source": [
    "<img src=\"https://i.ibb.co/zRsctx8/mlb.png\" width=\"400\" align=\"center\">"
   ]
  },
  {
   "cell_type": "code",
   "execution_count": null,
   "metadata": {},
   "outputs": [],
   "source": [
    "MLB_team = {\n",
    "    'Colorado': 'Rockies',\n",
    "    'Boston': 'Red Sox',\n",
    "    'Minnesota': 'Twins',\n",
    "    'Milwaukee': 'Brewers',\n",
    "    'Seattle': 'Mariners'\n",
    "}"
   ]
  },
  {
   "cell_type": "code",
   "execution_count": null,
   "metadata": {},
   "outputs": [],
   "source": [
    "print(MLB_team['Boston'])\n"
   ]
  },
  {
   "cell_type": "code",
   "execution_count": null,
   "metadata": {},
   "outputs": [],
   "source": [
    "print(MLB_team['Boston '])"
   ]
  },
  {
   "cell_type": "code",
   "execution_count": null,
   "metadata": {},
   "outputs": [],
   "source": [
    "MLB_team['Boston'] = 'Satria Muda'"
   ]
  },
  {
   "cell_type": "code",
   "execution_count": null,
   "metadata": {},
   "outputs": [],
   "source": [
    "print(MLB_team)"
   ]
  },
  {
   "cell_type": "code",
   "execution_count": null,
   "metadata": {},
   "outputs": [],
   "source": [
    "del(MLB_team['Boston'])\n",
    "print(MLB_team)"
   ]
  },
  {
   "cell_type": "code",
   "execution_count": null,
   "metadata": {},
   "outputs": [],
   "source": [
    "salaries = {\n",
    "    \"Budi\":1000, \"Wati\":50000, \"Iwan\":3000\n",
    "}\n",
    "print(salaries)\n",
    "data_element = salaries.pop('Wati')\n",
    "print(data_element)\n",
    "print(salaries)"
   ]
  },
  {
   "cell_type": "code",
   "execution_count": null,
   "metadata": {},
   "outputs": [],
   "source": [
    "person = {} \n",
    "type(person)"
   ]
  },
  {
   "cell_type": "code",
   "execution_count": null,
   "metadata": {},
   "outputs": [],
   "source": [
    "person['fname'] = \"IKetut\"\n",
    "person[\"lname\"] = 'Gunawan' \n",
    "person['age']=45 \n",
    "person[\"children\"] =['Yusuf','Sulaiman','Ibrahim','Fatimah']\n",
    "person['pets'] = [{'keysArr': ['ath', 'atl', 'circulatingSupply'],'Dog':'Jumba'}]\n",
    "person[\"skill\"] = {\"programming\":['Java','Golang','Python','Solidity'],\n",
    "                   \"database\":{\"nosql\":['MonggoDb','Neo4J'],\"rdbms\":['Mysql','PostgreSQL','Oracle']}}"
   ]
  },
  {
   "cell_type": "markdown",
   "metadata": {},
   "source": []
  },
  {
   "cell_type": "code",
   "execution_count": null,
   "metadata": {},
   "outputs": [],
   "source": [
    "print(person)"
   ]
  },
  {
   "cell_type": "code",
   "execution_count": null,
   "metadata": {},
   "outputs": [],
   "source": [
    "import json \n",
    "print(json.dumps(person, sort_keys=False, indent=4))"
   ]
  },
  {
   "attachments": {},
   "cell_type": "markdown",
   "metadata": {},
   "source": [
    "## Set"
   ]
  },
  {
   "cell_type": "code",
   "execution_count": null,
   "metadata": {},
   "outputs": [],
   "source": [
    "vara = set(\"Haloapakabar\")\n",
    "print(vara)\n",
    "print(type(vara))"
   ]
  },
  {
   "cell_type": "code",
   "execution_count": null,
   "metadata": {},
   "outputs": [],
   "source": [
    "set((0,4,3,1,2,1))"
   ]
  },
  {
   "cell_type": "code",
   "execution_count": null,
   "metadata": {},
   "outputs": [],
   "source": [
    "set([1,3,5,3])"
   ]
  },
  {
   "cell_type": "code",
   "execution_count": null,
   "metadata": {},
   "outputs": [],
   "source": [
    "set([1,3,\"a\",4,5,\"b\",\"A\",True,7.4])"
   ]
  },
  {
   "cell_type": "code",
   "execution_count": null,
   "metadata": {},
   "outputs": [],
   "source": [
    "beatles = {\"John\",\"Paul\",\"Ringo\",\"Gorge\"}\n",
    "print(type(beatles))\n",
    "print(beatles)\n",
    "beatles.remove(\"Paul\")\n",
    "print(beatles)\n",
    "beatles.add(\"Ketut\")\n",
    "print(beatles)"
   ]
  },
  {
   "cell_type": "code",
   "execution_count": null,
   "metadata": {},
   "outputs": [],
   "source": [
    "beatles.add(\"Ringo\") ## can't duplicate this\n",
    "print(beatles)"
   ]
  },
  {
   "cell_type": "code",
   "execution_count": null,
   "metadata": {},
   "outputs": [],
   "source": [
    "team1 = {\"Joko\",\"Jono\",\"Suparman\",\"Supardi\"} \n",
    "team2 = {\"Made\",\"Ucok\",\"Supardi\",\"Joni\"}\n",
    "\n",
    "new_team = team1 | team2 # union \n",
    "print(new_team)"
   ]
  },
  {
   "cell_type": "code",
   "execution_count": null,
   "metadata": {},
   "outputs": [],
   "source": [
    "word1 = {\"W\",\"I\",\"N\",\"T\",\"E\",\"R\"}\n",
    "word2 = {\"S\",\"N\",\"O\",\"W\"}\n",
    "print(word1 & word2) "
   ]
  },
  {
   "cell_type": "code",
   "execution_count": null,
   "metadata": {},
   "outputs": [],
   "source": [
    "huruf1 = {\"A\",\"C\",\"I\"}\n",
    "huruf2 = {\"A\",\"I\",\"B\",\"X\"} \n",
    "new_huruf = huruf2 - huruf1 \n",
    "print(new_huruf)"
   ]
  },
  {
   "cell_type": "code",
   "execution_count": null,
   "metadata": {},
   "outputs": [],
   "source": []
  }
 ],
 "metadata": {
  "kernelspec": {
   "display_name": "Python 3",
   "language": "python",
   "name": "python3"
  },
  "language_info": {
   "codemirror_mode": {
    "name": "ipython",
    "version": 3
   },
   "file_extension": ".py",
   "mimetype": "text/x-python",
   "name": "python",
   "nbconvert_exporter": "python",
   "pygments_lexer": "ipython3",
   "version": "3.9.6"
  },
  "orig_nbformat": 4,
  "vscode": {
   "interpreter": {
    "hash": "aee8b7b246df8f9039afb4144a1f6fd8d2ca17a180786b69acc140d282b71a49"
   }
  }
 },
 "nbformat": 4,
 "nbformat_minor": 2
}
