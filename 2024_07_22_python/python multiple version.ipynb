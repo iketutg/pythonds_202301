{
 "cells": [
  {
   "cell_type": "markdown",
   "metadata": {},
   "source": [
    "## Python multiple version "
   ]
  },
  {
   "cell_type": "markdown",
   "metadata": {},
   "source": [
    "- Ubuntu / Linux \n",
    "```\n",
    "sudo apt update\n",
    "sudo apt install -y make build-essential libssl-dev zlib1g-dev \\\n",
    "libbz2-dev libreadline-dev libsqlite3-dev wget curl llvm \\\n",
    "libncurses5-dev libncursesw5-dev xz-utils tk-dev libffi-dev liblzma-dev \\\n",
    "python-openssl git\n",
    "```"
   ]
  },
  {
   "cell_type": "markdown",
   "metadata": {},
   "source": [
    "- Mac Os \n",
    "\n",
    "```\n",
    "brew update\n",
    "brew install openssl readline sqlite3 xz zlib\n",
    "brew install pyenv\n",
    "```"
   ]
  },
  {
   "cell_type": "markdown",
   "metadata": {},
   "source": [
    "- Windows \n",
    "``` \n",
    "lpyenv-win  \n",
    "1. Instalasi via Git: \n",
    "$ git clone https://github.com/pyenv-win/pyenv-win.git $HOME/.pyenv\n",
    "2. Tambahkan pyenv ke Path:\n",
    "Tambahkan baris berikut ke Environment Variables (melalui System Properties)\n",
    "%USERPROFILE%\\.pyenv\\pyenv-win\\bin\n",
    "%USERPROFILE%\\.pyenv\\pyenv-win\\shims\n",
    "3. Restart Command Prompt atau PowerShell:\n",
    "refreshenv\n",
    "```\n"
   ]
  },
  {
   "cell_type": "markdown",
   "metadata": {},
   "source": [
    "* Instal Versi Python:\n",
    "```\n",
    "$ pyenv install 3.9.1\n",
    "$ pyenv install 3.8.6\n",
    "$ pyenv install 2.7.18\n",
    "```\n"
   ]
  },
  {
   "cell_type": "markdown",
   "metadata": {},
   "source": [
    "* Mengatur Versi Global:\n",
    "```\n",
    "pyenv global 3.9.1\n",
    "```\n"
   ]
  },
  {
   "cell_type": "markdown",
   "metadata": {},
   "source": [
    "* Mengatur Versi Lokal (untuk direktori proyek tertentu):\n",
    "```\n",
    "pyenv local 3.8.6\n",
    "\n",
    "```\n"
   ]
  },
  {
   "cell_type": "markdown",
   "metadata": {},
   "source": [
    "* Memeriksa Versi Python yang Digunakan:\n",
    "``` \n",
    "pyenv versions\n",
    "python --version\n",
    "```\n"
   ]
  },
  {
   "cell_type": "markdown",
   "metadata": {},
   "source": []
  }
 ],
 "metadata": {
  "language_info": {
   "name": "python"
  }
 },
 "nbformat": 4,
 "nbformat_minor": 2
}
