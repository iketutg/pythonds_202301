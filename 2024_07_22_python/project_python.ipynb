{
 "cells": [
  {
   "cell_type": "markdown",
   "metadata": {},
   "source": [
    "# Python "
   ]
  },
  {
   "cell_type": "markdown",
   "metadata": {},
   "source": [
    "### Langkah membuat project python "
   ]
  },
  {
   "cell_type": "markdown",
   "metadata": {},
   "source": [
    "#### Instal Python "
   ]
  },
  {
   "cell_type": "markdown",
   "metadata": {},
   "source": [
    "``` https://www.python.org/downloads/windows/ ```"
   ]
  },
  {
   "cell_type": "markdown",
   "metadata": {},
   "source": [
    "#### Create Project ( Create Folder)"
   ]
  },
  {
   "cell_type": "markdown",
   "metadata": {},
   "source": [
    "``` $ mkdir myproject ```"
   ]
  },
  {
   "cell_type": "markdown",
   "metadata": {},
   "source": [
    "#### Buat Virtual Environment "
   ]
  },
  {
   "cell_type": "markdown",
   "metadata": {},
   "source": [
    "``` $ cd myproject ```"
   ]
  },
  {
   "cell_type": "markdown",
   "metadata": {},
   "source": [
    "``` $ python -m venv myenv ```"
   ]
  },
  {
   "cell_type": "markdown",
   "metadata": {},
   "source": [
    "#### Activated Environment \n"
   ]
  },
  {
   "cell_type": "markdown",
   "metadata": {},
   "source": [
    " ```$ source ./myenv/bin/activate ``` --> ini adalah perintah di macoss"
   ]
  },
  {
   "cell_type": "markdown",
   "metadata": {},
   "source": [
    "- untuk melakukan deactivate dengan cara command line seperti ini : \n",
    "\n",
    "``` $ deactivate ``` "
   ]
  },
  {
   "cell_type": "markdown",
   "metadata": {},
   "source": [
    "jika sudah aktif maka pada pojok kiri pada command prompt terdapat `(nama env)`"
   ]
  },
  {
   "cell_type": "markdown",
   "metadata": {},
   "source": [
    "#### Instal library yang dibutuhkan (Streamlit)\n"
   ]
  },
  {
   "cell_type": "markdown",
   "metadata": {},
   "source": [
    "```$ pip install streamlit ```"
   ]
  },
  {
   "cell_type": "markdown",
   "metadata": {},
   "source": [
    "#### Buat applikasi python dengan library streamlit\n"
   ]
  },
  {
   "cell_type": "markdown",
   "metadata": {},
   "source": [
    "- buat file app.py \n",
    "- tambahkan code pada app.py \n"
   ]
  },
  {
   "cell_type": "markdown",
   "metadata": {},
   "source": [
    "``` # file app.py \n",
    "import streamlit as st\n",
    "\n",
    "st.title(\"Hello World, Streamlit\")\n",
    "st.write(\"Ini aplikasi streamlit pertama saya\") \n",
    "\n",
    "```"
   ]
  },
  {
   "cell_type": "markdown",
   "metadata": {},
   "source": [
    "#### Runing Applikasi "
   ]
  },
  {
   "cell_type": "markdown",
   "metadata": {},
   "source": [
    "``` $ streamlit run app.py ```"
   ]
  },
  {
   "cell_type": "markdown",
   "metadata": {},
   "source": [
    "- maka tampilan pada command line akan seperti dibawah ini dan akan membuka browser \n",
    "```\n",
    "  You can now view your Streamlit app in your browser.\n",
    "\n",
    "  Local URL: http://localhost:8501\n",
    "  Network URL: http://192.168.0.108:8501\n",
    "\n",
    "  For better performance, install the Watchdog module:\n",
    "\n",
    "  $ xcode-select --install\n",
    "  $ pip install watchdog\n",
    "  ```\n",
    "\n",
    "- browser akan otomatis terbuka dengan alamat http://localhost:8501  \n",
    "- jika browser tidak terbuka buka manual dengan alamat http://localhost:8501 "
   ]
  },
  {
   "cell_type": "markdown",
   "metadata": {},
   "source": [
    "#### Freeze library save state "
   ]
  },
  {
   "cell_type": "markdown",
   "metadata": {},
   "source": [
    "- setelah aplikasi telah berjalan \n",
    "- untuk menyimpan kebutuhan apa saja jika aplikasi suatu saat nanti dibutuhkan dengan menyimpan state library2 yang di gunakan saat ini dengan cara melakukan freeze dan list library tersebut di simpan ke dalam file requirements.tx "
   ]
  },
  {
   "cell_type": "markdown",
   "metadata": {},
   "source": [
    "``` pip freeze ``` --> maka akan tampil library2 include version yang digunakan "
   ]
  },
  {
   "cell_type": "markdown",
   "metadata": {},
   "source": []
  },
  {
   "cell_type": "markdown",
   "metadata": {},
   "source": [
    "``` $ pip freeze > requirements.txt ```"
   ]
  },
  {
   "cell_type": "markdown",
   "metadata": {},
   "source": [
    "maka list library akan tersimpan pada file requirements.txt "
   ]
  },
  {
   "cell_type": "markdown",
   "metadata": {},
   "source": [
    "#### Melakukan install pada code sebelumnya pada folder yang berbeda  "
   ]
  },
  {
   "cell_type": "markdown",
   "metadata": {},
   "source": [
    "```\n",
    ".\n",
    "├── myenv\n",
    "├── app.py\n",
    "└── requeirements.txt \n",
    "```"
   ]
  },
  {
   "cell_type": "markdown",
   "metadata": {},
   "source": [
    "- create new folder  \n",
    "- copy file app.py & requirements.txt \n",
    "- jalankan perintah pip install requirements.txt  \n",
    "- jalankan applikasi"
   ]
  },
  {
   "cell_type": "markdown",
   "metadata": {},
   "source": [
    "``` \n",
    "$ python -m venv newmyenv  \n",
    "$ source ./newmyenv/bin/activated \n",
    "$ pip install -r requeirements.txt \n",
    "$ streamlit run app.py \n",
    "```"
   ]
  },
  {
   "cell_type": "markdown",
   "metadata": {},
   "source": []
  },
  {
   "cell_type": "markdown",
   "metadata": {},
   "source": []
  }
 ],
 "metadata": {
  "language_info": {
   "name": "python"
  }
 },
 "nbformat": 4,
 "nbformat_minor": 2
}
